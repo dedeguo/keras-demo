{
  "nbformat": 4,
  "nbformat_minor": 0,
  "metadata": {
    "accelerator": "GPU",
    "colab": {
      "name": "“Course 3 - Week 2 - Lesson 2.ipynb”的副本",
      "provenance": [],
      "collapsed_sections": [],
      "include_colab_link": true
    },
    "kernelspec": {
      "display_name": "Python 3",
      "name": "python3"
    }
  },
  "cells": [
    {
      "cell_type": "markdown",
      "metadata": {
        "id": "view-in-github",
        "colab_type": "text"
      },
      "source": [
        "<a href=\"https://colab.research.google.com/github/dedeguo/keras-demo/blob/master/%E2%80%9CCourse_3_Week_2_Lesson_2_ipynb%E2%80%9D%E7%9A%84%E5%89%AF%E6%9C%AC.ipynb\" target=\"_parent\"><img src=\"https://colab.research.google.com/assets/colab-badge.svg\" alt=\"Open In Colab\"/></a>"
      ]
    },
    {
      "cell_type": "code",
      "metadata": {
        "id": "zX4Kg8DUTKWO",
        "colab_type": "code",
        "colab": {}
      },
      "source": [
        "#@title Licensed under the Apache License, Version 2.0 (the \"License\");\n",
        "# you may not use this file except in compliance with the License.\n",
        "# You may obtain a copy of the License at\n",
        "#\n",
        "# https://www.apache.org/licenses/LICENSE-2.0\n",
        "#\n",
        "# Unless required by applicable law or agreed to in writing, software\n",
        "# distributed under the License is distributed on an \"AS IS\" BASIS,\n",
        "# WITHOUT WARRANTIES OR CONDITIONS OF ANY KIND, either express or implied.\n",
        "# See the License for the specific language governing permissions and\n",
        "# limitations under the License."
      ],
      "execution_count": 0,
      "outputs": []
    },
    {
      "cell_type": "code",
      "metadata": {
        "colab_type": "code",
        "id": "4gs9htvM7n_x",
        "colab": {}
      },
      "source": [
        "# Run this to ensure TensorFlow 2.x is used\n",
        "try:\n",
        "  # %tensorflow_version only exists in Colab.\n",
        "  %tensorflow_version 2.x\n",
        "except Exception:\n",
        "  pass"
      ],
      "execution_count": 0,
      "outputs": []
    },
    {
      "cell_type": "code",
      "metadata": {
        "colab_type": "code",
        "id": "XYYDvoskkE61",
        "colab": {}
      },
      "source": [
        "import json\n",
        "import tensorflow as tf\n",
        "\n",
        "from tensorflow.keras.preprocessing.text import Tokenizer\n",
        "from tensorflow.keras.preprocessing.sequence import pad_sequences"
      ],
      "execution_count": 0,
      "outputs": []
    },
    {
      "cell_type": "code",
      "metadata": {
        "colab_type": "code",
        "id": "0eJSTTYnkJQd",
        "colab": {}
      },
      "source": [
        "vocab_size = 10000\n",
        "embedding_dim = 16\n",
        "max_length = 100\n",
        "trunc_type='post'\n",
        "padding_type='post'\n",
        "oov_tok = \"<OOV>\"\n",
        "training_size = 20000\n"
      ],
      "execution_count": 0,
      "outputs": []
    },
    {
      "cell_type": "code",
      "metadata": {
        "colab_type": "code",
        "id": "BQVuQrZNkPn9",
        "colab": {
          "base_uri": "https://localhost:8080/",
          "height": 204
        },
        "outputId": "fb452cf9-a272-40e3-e014-b8e32ac690eb"
      },
      "source": [
        "!wget --no-check-certificate \\\n",
        "    https://storage.googleapis.com/laurencemoroney-blog.appspot.com/sarcasm.json \\\n",
        "    -O /tmp/sarcasm.json\n"
      ],
      "execution_count": 4,
      "outputs": [
        {
          "output_type": "stream",
          "text": [
            "--2020-06-13 10:51:58--  https://storage.googleapis.com/laurencemoroney-blog.appspot.com/sarcasm.json\n",
            "Resolving storage.googleapis.com (storage.googleapis.com)... 108.177.125.128, 2404:6800:4008:c01::80\n",
            "Connecting to storage.googleapis.com (storage.googleapis.com)|108.177.125.128|:443... connected.\n",
            "HTTP request sent, awaiting response... 200 OK\n",
            "Length: 5643545 (5.4M) [application/json]\n",
            "Saving to: ‘/tmp/sarcasm.json’\n",
            "\n",
            "\r/tmp/sarcasm.json     0%[                    ]       0  --.-KB/s               \r/tmp/sarcasm.json   100%[===================>]   5.38M  --.-KB/s    in 0.05s   \n",
            "\n",
            "2020-06-13 10:51:58 (103 MB/s) - ‘/tmp/sarcasm.json’ saved [5643545/5643545]\n",
            "\n"
          ],
          "name": "stdout"
        }
      ]
    },
    {
      "cell_type": "code",
      "metadata": {
        "colab_type": "code",
        "id": "oaLaaqhNkUPd",
        "colab": {}
      },
      "source": [
        "with open(\"/tmp/sarcasm.json\", 'r') as f:\n",
        "    datastore = json.load(f)\n",
        "\n",
        "sentences = []\n",
        "labels = []\n",
        "\n",
        "for item in datastore:\n",
        "    sentences.append(item['headline'])\n",
        "    labels.append(item['is_sarcastic'])\n",
        "    print(item)"
      ],
      "execution_count": 0,
      "outputs": []
    },
    {
      "cell_type": "code",
      "metadata": {
        "colab_type": "code",
        "id": "S1sD-7v0kYWk",
        "colab": {}
      },
      "source": [
        "training_sentences = sentences[0:training_size]\n",
        "testing_sentences = sentences[training_size:]\n",
        "training_labels = labels[0:training_size]\n",
        "testing_labels = labels[training_size:]"
      ],
      "execution_count": 0,
      "outputs": []
    },
    {
      "cell_type": "code",
      "metadata": {
        "colab_type": "code",
        "id": "3u8UB0MCkZ5N",
        "colab": {}
      },
      "source": [
        "tokenizer = Tokenizer(num_words=vocab_size, oov_token=oov_tok)\n",
        "tokenizer.fit_on_texts(training_sentences)\n",
        "\n",
        "word_index = tokenizer.word_index\n",
        "\n",
        "training_sequences = tokenizer.texts_to_sequences(training_sentences)\n",
        "training_padded = pad_sequences(training_sequences, maxlen=max_length, padding=padding_type, truncating=trunc_type)\n",
        "\n",
        "testing_sequences = tokenizer.texts_to_sequences(testing_sentences)\n",
        "testing_padded = pad_sequences(testing_sequences, maxlen=max_length, padding=padding_type, truncating=trunc_type)"
      ],
      "execution_count": 0,
      "outputs": []
    },
    {
      "cell_type": "code",
      "metadata": {
        "colab_type": "code",
        "id": "GrAlWBKf99Ya",
        "colab": {}
      },
      "source": [
        "# Need this block to get it to work with TensorFlow 2.x\n",
        "import numpy as np\n",
        "training_padded = np.array(training_padded)\n",
        "training_labels = np.array(training_labels)\n",
        "testing_padded = np.array(testing_padded)\n",
        "testing_labels = np.array(testing_labels)"
      ],
      "execution_count": 0,
      "outputs": []
    },
    {
      "cell_type": "code",
      "metadata": {
        "colab_type": "code",
        "id": "FufaT4vlkiDE",
        "colab": {}
      },
      "source": [
        "model = tf.keras.Sequential([\n",
        "    tf.keras.layers.Embedding(vocab_size, embedding_dim, input_length=max_length),\n",
        "    tf.keras.layers.GlobalAveragePooling1D(),\n",
        "    tf.keras.layers.Dense(24, activation='relu'),\n",
        "    tf.keras.layers.Dense(1, activation='sigmoid')\n",
        "])\n",
        "model.compile(loss='binary_crossentropy',optimizer='adam',metrics=['accuracy'])"
      ],
      "execution_count": 0,
      "outputs": []
    },
    {
      "cell_type": "code",
      "metadata": {
        "colab_type": "code",
        "id": "XfDt1hmYkiys",
        "colab": {
          "base_uri": "https://localhost:8080/",
          "height": 289
        },
        "outputId": "28cade56-5e0c-4f80-cdb9-ee212adcc676"
      },
      "source": [
        "model.summary()\n"
      ],
      "execution_count": 11,
      "outputs": [
        {
          "output_type": "stream",
          "text": [
            "Model: \"sequential\"\n",
            "_________________________________________________________________\n",
            "Layer (type)                 Output Shape              Param #   \n",
            "=================================================================\n",
            "embedding (Embedding)        (None, 100, 16)           160000    \n",
            "_________________________________________________________________\n",
            "global_average_pooling1d (Gl (None, 16)                0         \n",
            "_________________________________________________________________\n",
            "dense (Dense)                (None, 24)                408       \n",
            "_________________________________________________________________\n",
            "dense_1 (Dense)              (None, 1)                 25        \n",
            "=================================================================\n",
            "Total params: 160,433\n",
            "Trainable params: 160,433\n",
            "Non-trainable params: 0\n",
            "_________________________________________________________________\n"
          ],
          "name": "stdout"
        }
      ]
    },
    {
      "cell_type": "code",
      "metadata": {
        "colab_type": "code",
        "id": "2DTKQFf1kkyc",
        "colab": {
          "base_uri": "https://localhost:8080/",
          "height": 1000
        },
        "outputId": "9a283b81-beeb-48cc-a393-dd1a7ab99c75"
      },
      "source": [
        "num_epochs = 30\n",
        "history = model.fit(training_padded, training_labels, epochs=num_epochs, validation_data=(testing_padded, testing_labels), verbose=2)"
      ],
      "execution_count": 12,
      "outputs": [
        {
          "output_type": "stream",
          "text": [
            "Epoch 1/30\n",
            "625/625 - 4s - loss: 0.6587 - accuracy: 0.5943 - val_loss: 0.5647 - val_accuracy: 0.7171\n",
            "Epoch 2/30\n",
            "625/625 - 3s - loss: 0.4254 - accuracy: 0.8322 - val_loss: 0.3832 - val_accuracy: 0.8414\n",
            "Epoch 3/30\n",
            "625/625 - 3s - loss: 0.3084 - accuracy: 0.8774 - val_loss: 0.3554 - val_accuracy: 0.8496\n",
            "Epoch 4/30\n",
            "625/625 - 3s - loss: 0.2560 - accuracy: 0.8997 - val_loss: 0.3436 - val_accuracy: 0.8535\n",
            "Epoch 5/30\n",
            "625/625 - 3s - loss: 0.2200 - accuracy: 0.9155 - val_loss: 0.3469 - val_accuracy: 0.8535\n",
            "Epoch 6/30\n",
            "625/625 - 3s - loss: 0.1922 - accuracy: 0.9264 - val_loss: 0.3523 - val_accuracy: 0.8538\n",
            "Epoch 7/30\n",
            "625/625 - 3s - loss: 0.1696 - accuracy: 0.9366 - val_loss: 0.3660 - val_accuracy: 0.8545\n",
            "Epoch 8/30\n",
            "625/625 - 3s - loss: 0.1514 - accuracy: 0.9449 - val_loss: 0.4017 - val_accuracy: 0.8430\n",
            "Epoch 9/30\n",
            "625/625 - 3s - loss: 0.1370 - accuracy: 0.9506 - val_loss: 0.4031 - val_accuracy: 0.8536\n",
            "Epoch 10/30\n",
            "625/625 - 3s - loss: 0.1248 - accuracy: 0.9557 - val_loss: 0.4271 - val_accuracy: 0.8496\n",
            "Epoch 11/30\n",
            "625/625 - 3s - loss: 0.1121 - accuracy: 0.9610 - val_loss: 0.4569 - val_accuracy: 0.8466\n",
            "Epoch 12/30\n",
            "625/625 - 3s - loss: 0.1006 - accuracy: 0.9661 - val_loss: 0.4817 - val_accuracy: 0.8436\n",
            "Epoch 13/30\n",
            "625/625 - 3s - loss: 0.0919 - accuracy: 0.9694 - val_loss: 0.5351 - val_accuracy: 0.8326\n",
            "Epoch 14/30\n",
            "625/625 - 4s - loss: 0.0855 - accuracy: 0.9712 - val_loss: 0.5445 - val_accuracy: 0.8365\n",
            "Epoch 15/30\n",
            "625/625 - 4s - loss: 0.0746 - accuracy: 0.9763 - val_loss: 0.5724 - val_accuracy: 0.8368\n",
            "Epoch 16/30\n",
            "625/625 - 4s - loss: 0.0689 - accuracy: 0.9775 - val_loss: 0.6111 - val_accuracy: 0.8337\n",
            "Epoch 17/30\n",
            "625/625 - 3s - loss: 0.0653 - accuracy: 0.9794 - val_loss: 0.6543 - val_accuracy: 0.8284\n",
            "Epoch 18/30\n",
            "625/625 - 3s - loss: 0.0588 - accuracy: 0.9814 - val_loss: 0.6853 - val_accuracy: 0.8293\n",
            "Epoch 19/30\n",
            "625/625 - 3s - loss: 0.0521 - accuracy: 0.9839 - val_loss: 0.7191 - val_accuracy: 0.8280\n",
            "Epoch 20/30\n",
            "625/625 - 3s - loss: 0.0484 - accuracy: 0.9849 - val_loss: 0.8250 - val_accuracy: 0.8214\n",
            "Epoch 21/30\n",
            "625/625 - 3s - loss: 0.0454 - accuracy: 0.9850 - val_loss: 0.8714 - val_accuracy: 0.8208\n",
            "Epoch 22/30\n",
            "625/625 - 3s - loss: 0.0425 - accuracy: 0.9863 - val_loss: 0.8442 - val_accuracy: 0.8234\n",
            "Epoch 23/30\n",
            "625/625 - 3s - loss: 0.0373 - accuracy: 0.9883 - val_loss: 0.9105 - val_accuracy: 0.8193\n",
            "Epoch 24/30\n",
            "625/625 - 3s - loss: 0.0349 - accuracy: 0.9895 - val_loss: 0.9294 - val_accuracy: 0.8198\n",
            "Epoch 25/30\n",
            "625/625 - 3s - loss: 0.0320 - accuracy: 0.9911 - val_loss: 1.0071 - val_accuracy: 0.8167\n",
            "Epoch 26/30\n",
            "625/625 - 3s - loss: 0.0293 - accuracy: 0.9916 - val_loss: 1.0313 - val_accuracy: 0.8159\n",
            "Epoch 27/30\n",
            "625/625 - 3s - loss: 0.0271 - accuracy: 0.9922 - val_loss: 1.0407 - val_accuracy: 0.8156\n",
            "Epoch 28/30\n",
            "625/625 - 3s - loss: 0.0275 - accuracy: 0.9917 - val_loss: 1.0865 - val_accuracy: 0.8141\n",
            "Epoch 29/30\n",
            "625/625 - 3s - loss: 0.0222 - accuracy: 0.9938 - val_loss: 1.1775 - val_accuracy: 0.8125\n",
            "Epoch 30/30\n",
            "625/625 - 3s - loss: 0.0212 - accuracy: 0.9947 - val_loss: 1.2274 - val_accuracy: 0.8128\n"
          ],
          "name": "stdout"
        }
      ]
    },
    {
      "cell_type": "code",
      "metadata": {
        "colab_type": "code",
        "id": "2HYfBKXjkmU8",
        "colab": {
          "base_uri": "https://localhost:8080/",
          "height": 541
        },
        "outputId": "50aca725-b276-41fe-c251-0aad3cb4392d"
      },
      "source": [
        "import matplotlib.pyplot as plt\n",
        "\n",
        "\n",
        "def plot_graphs(history, string):\n",
        "  plt.plot(history.history[string])\n",
        "  plt.plot(history.history['val_'+string])\n",
        "  plt.xlabel(\"Epochs\")\n",
        "  plt.ylabel(string)\n",
        "  plt.legend([string, 'val_'+string])\n",
        "  plt.show()\n",
        "  \n",
        "plot_graphs(history, \"accuracy\")\n",
        "plot_graphs(history, \"loss\")"
      ],
      "execution_count": 13,
      "outputs": [
        {
          "output_type": "display_data",
          "data": {
            "image/png": "[encoded data removed]",
            "text/plain": [
              "<Figure size 432x288 with 1 Axes>"
            ]
          },
          "metadata": {
            "tags": [],
            "needs_background": "light"
          }
        },
        {
          "output_type": "display_data",
          "data": {
            "image/png": "[encoded data removed]",
            "text/plain": [
              "<Figure size 432x288 with 1 Axes>"
            ]
          },
          "metadata": {
            "tags": [],
            "needs_background": "light"
          }
        }
      ]
    },
    {
      "cell_type": "code",
      "metadata": {
        "colab_type": "code",
        "id": "7SBdAZAenvzL",
        "colab": {
          "base_uri": "https://localhost:8080/",
          "height": 88
        },
        "outputId": "0f05f7fb-46a0-4fb6-de95-267ab8210c74"
      },
      "source": [
        "reverse_word_index = dict([(value, key) for (key, value) in word_index.items()])\n",
        "\n",
        "def decode_sentence(text):\n",
        "    return ' '.join([reverse_word_index.get(i, '?') for i in text])\n",
        "\n",
        "print(decode_sentence(training_padded[0]))\n",
        "print(training_sentences[2])\n",
        "print(labels[2])"
      ],
      "execution_count": 14,
      "outputs": [
        {
          "output_type": "stream",
          "text": [
            "former <OOV> store clerk sues over secret 'black <OOV> for minority shoppers ? ? ? ? ? ? ? ? ? ? ? ? ? ? ? ? ? ? ? ? ? ? ? ? ? ? ? ? ? ? ? ? ? ? ? ? ? ? ? ? ? ? ? ? ? ? ? ? ? ? ? ? ? ? ? ? ? ? ? ? ? ? ? ? ? ? ? ? ? ? ? ? ? ? ? ? ? ? ? ? ? ? ? ? ? ? ? ?\n",
            "mom starting to fear son's web series closest thing she will have to grandchild\n",
            "1\n"
          ],
          "name": "stdout"
        }
      ]
    },
    {
      "cell_type": "code",
      "metadata": {
        "colab_type": "code",
        "id": "c9MqihtEkzQ9",
        "colab": {
          "base_uri": "https://localhost:8080/",
          "height": 272
        },
        "outputId": "52247ea8-ba69-4c5e-be21-6d83d9acecef"
      },
      "source": [
        "e = model.layers[0]\n",
        "print(e.embeddings)\n",
        "weights = e.get_weights()[0]\n",
        "print(weights.shape) # shape: (vocab_size, embedding_dim)\n"
      ],
      "execution_count": 18,
      "outputs": [
        {
          "output_type": "stream",
          "text": [
            "<tf.Variable 'embedding/embeddings:0' shape=(10000, 16) dtype=float32, numpy=\n",
            "array([[ 0.1279092 ,  0.03585816, -0.02951705, ...,  0.01655091,\n",
            "         0.06986207,  0.07774535],\n",
            "       [-0.03961427, -0.0116728 , -0.00384077, ..., -0.04677483,\n",
            "         0.00798027,  0.00274013],\n",
            "       [ 0.03429416, -0.08223023,  0.10696682, ..., -0.05170994,\n",
            "         0.10647167,  0.02093128],\n",
            "       ...,\n",
            "       [ 0.35875735,  0.34081036, -0.3794429 , ...,  0.3288507 ,\n",
            "        -0.3143921 ,  0.2833083 ],\n",
            "       [-0.08919854, -0.12251098,  0.12937027, ..., -0.21915706,\n",
            "         0.13779174, -0.17238463],\n",
            "       [-0.30540916, -0.41750303,  0.40279394, ..., -0.46506146,\n",
            "         0.4257449 , -0.29209286]], dtype=float32)>\n",
            "(10000, 16)\n"
          ],
          "name": "stdout"
        }
      ]
    },
    {
      "cell_type": "code",
      "metadata": {
        "colab_type": "code",
        "id": "LoBXVffknldU",
        "colab": {}
      },
      "source": [
        "import io\n",
        "\n",
        "out_v = io.open('vecs.tsv', 'w', encoding='utf-8')\n",
        "out_m = io.open('meta.tsv', 'w', encoding='utf-8')\n",
        "for word_num in range(1, vocab_size):\n",
        "  word = reverse_word_index[word_num]\n",
        "  embeddings = weights[word_num]\n",
        "  out_m.write(word + \"\\n\")\n",
        "  out_v.write('\\t'.join([str(x) for x in embeddings]) + \"\\n\")\n",
        "out_v.close()\n",
        "out_m.close()"
      ],
      "execution_count": 0,
      "outputs": []
    },
    {
      "cell_type": "code",
      "metadata": {
        "colab_type": "code",
        "id": "U4eZ5HtVnnEE",
        "colab": {}
      },
      "source": [
        "try:\n",
        "  from google.colab import files\n",
        "except ImportError:\n",
        "  pass\n",
        "else:\n",
        "  files.download('vecs.tsv')\n",
        "  files.download('meta.tsv')"
      ],
      "execution_count": 0,
      "outputs": []
    },
    {
      "cell_type": "code",
      "metadata": {
        "colab_type": "code",
        "id": "cG8-ArY-qDcz",
        "colab": {
          "base_uri": "https://localhost:8080/",
          "height": 51
        },
        "outputId": "a2d3d8e5-d416-4a70-de6f-8485cca67c7f"
      },
      "source": [
        "sentence = [\"granny starting to fear spiders in the garden might be real\", \"game of thrones season finale showing this sunday night\"]\n",
        "sequences = tokenizer.texts_to_sequences(sentence)\n",
        "padded = pad_sequences(sequences, maxlen=max_length, padding=padding_type, truncating=trunc_type)\n",
        "print(model.predict(padded))"
      ],
      "execution_count": 21,
      "outputs": [
        {
          "output_type": "stream",
          "text": [
            "[[7.5321835e-01]\n",
            " [5.8060823e-07]]\n"
          ],
          "name": "stdout"
        }
      ]
    }
  ]
}